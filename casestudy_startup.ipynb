{
 "cells": [
  {
   "cell_type": "code",
   "execution_count": 186,
   "id": "dd4a8c20",
   "metadata": {},
   "outputs": [],
   "source": [
    "import csv\n",
    "import numpy as np\n",
    "import pandas as pd\n",
    "import matplotlib.pyplot as plt\n",
    "\n",
    "file = 'datasets/startup_funding_cn.csv'"
   ]
  },
  {
   "cell_type": "code",
   "execution_count": 187,
   "id": "9ae203be",
   "metadata": {},
   "outputs": [
    {
     "data": {
      "text/html": [
       "<div>\n",
       "<style scoped>\n",
       "    .dataframe tbody tr th:only-of-type {\n",
       "        vertical-align: middle;\n",
       "    }\n",
       "\n",
       "    .dataframe tbody tr th {\n",
       "        vertical-align: top;\n",
       "    }\n",
       "\n",
       "    .dataframe thead th {\n",
       "        text-align: right;\n",
       "    }\n",
       "</style>\n",
       "<table border=\"1\" class=\"dataframe\">\n",
       "  <thead>\n",
       "    <tr style=\"text-align: right;\">\n",
       "      <th></th>\n",
       "      <th>SNo</th>\n",
       "      <th>Date</th>\n",
       "      <th>StartupName</th>\n",
       "      <th>IndustryVertical</th>\n",
       "      <th>SubVertical</th>\n",
       "      <th>CityLocation</th>\n",
       "      <th>InvestorsName</th>\n",
       "      <th>InvestmentType</th>\n",
       "      <th>AmountInUSD</th>\n",
       "      <th>Remarks</th>\n",
       "    </tr>\n",
       "  </thead>\n",
       "  <tbody>\n",
       "    <tr>\n",
       "      <th>0</th>\n",
       "      <td>0</td>\n",
       "      <td>01/08/2017</td>\n",
       "      <td>TouchKin</td>\n",
       "      <td>Technology</td>\n",
       "      <td>Predictive Care Platform</td>\n",
       "      <td>Bangalore</td>\n",
       "      <td>Kae Capital</td>\n",
       "      <td>Private Equity</td>\n",
       "      <td>1,300,000</td>\n",
       "      <td>NaN</td>\n",
       "    </tr>\n",
       "    <tr>\n",
       "      <th>1</th>\n",
       "      <td>1</td>\n",
       "      <td>02/08/2017</td>\n",
       "      <td>Ethinos</td>\n",
       "      <td>Technology</td>\n",
       "      <td>Digital Marketing Agency</td>\n",
       "      <td>Mumbai</td>\n",
       "      <td>Triton Investment Advisors</td>\n",
       "      <td>Private Equity</td>\n",
       "      <td>NaN</td>\n",
       "      <td>NaN</td>\n",
       "    </tr>\n",
       "    <tr>\n",
       "      <th>2</th>\n",
       "      <td>2</td>\n",
       "      <td>02/08/2017</td>\n",
       "      <td>Leverage Edu</td>\n",
       "      <td>Consumer Internet</td>\n",
       "      <td>Online platform for Higher Education Services</td>\n",
       "      <td>New Delhi</td>\n",
       "      <td>Kashyap Deorah, Anand Sankeshwar, Deepak Jain,...</td>\n",
       "      <td>Seed Funding</td>\n",
       "      <td>NaN</td>\n",
       "      <td>NaN</td>\n",
       "    </tr>\n",
       "    <tr>\n",
       "      <th>3</th>\n",
       "      <td>3</td>\n",
       "      <td>02/08/2017</td>\n",
       "      <td>Zepo</td>\n",
       "      <td>Consumer Internet</td>\n",
       "      <td>DIY Ecommerce platform</td>\n",
       "      <td>Mumbai</td>\n",
       "      <td>Kunal Shah, LetsVenture, Anupam Mittal, Hetal ...</td>\n",
       "      <td>Seed Funding</td>\n",
       "      <td>500,000</td>\n",
       "      <td>NaN</td>\n",
       "    </tr>\n",
       "    <tr>\n",
       "      <th>4</th>\n",
       "      <td>4</td>\n",
       "      <td>02/08/2017</td>\n",
       "      <td>Click2Clinic</td>\n",
       "      <td>Consumer Internet</td>\n",
       "      <td>healthcare service aggregator</td>\n",
       "      <td>Hyderabad</td>\n",
       "      <td>Narottam Thudi, Shireesh Palle</td>\n",
       "      <td>Seed Funding</td>\n",
       "      <td>850,000</td>\n",
       "      <td>NaN</td>\n",
       "    </tr>\n",
       "  </tbody>\n",
       "</table>\n",
       "</div>"
      ],
      "text/plain": [
       "   SNo        Date   StartupName   IndustryVertical  \\\n",
       "0    0  01/08/2017      TouchKin         Technology   \n",
       "1    1  02/08/2017       Ethinos         Technology   \n",
       "2    2  02/08/2017  Leverage Edu  Consumer Internet   \n",
       "3    3  02/08/2017          Zepo  Consumer Internet   \n",
       "4    4  02/08/2017  Click2Clinic  Consumer Internet   \n",
       "\n",
       "                                     SubVertical CityLocation  \\\n",
       "0                       Predictive Care Platform    Bangalore   \n",
       "1                       Digital Marketing Agency       Mumbai   \n",
       "2  Online platform for Higher Education Services    New Delhi   \n",
       "3                         DIY Ecommerce platform       Mumbai   \n",
       "4                  healthcare service aggregator    Hyderabad   \n",
       "\n",
       "                                       InvestorsName  InvestmentType  \\\n",
       "0                                        Kae Capital  Private Equity   \n",
       "1                         Triton Investment Advisors  Private Equity   \n",
       "2  Kashyap Deorah, Anand Sankeshwar, Deepak Jain,...    Seed Funding   \n",
       "3  Kunal Shah, LetsVenture, Anupam Mittal, Hetal ...    Seed Funding   \n",
       "4                     Narottam Thudi, Shireesh Palle    Seed Funding   \n",
       "\n",
       "  AmountInUSD Remarks  \n",
       "0   1,300,000     NaN  \n",
       "1         NaN     NaN  \n",
       "2         NaN     NaN  \n",
       "3     500,000     NaN  \n",
       "4     850,000     NaN  "
      ]
     },
     "execution_count": 187,
     "metadata": {},
     "output_type": "execute_result"
    }
   ],
   "source": [
    "df = pd.read_csv(file, encoding = 'utf-8', skipinitialspace=True)\n",
    "df.head()"
   ]
  },
  {
   "cell_type": "markdown",
   "id": "5acd39e4",
   "metadata": {},
   "source": [
    "##### Problem 1 - Choose suitable city for startup"
   ]
  },
  {
   "cell_type": "code",
   "execution_count": 188,
   "id": "4f9ccad5",
   "metadata": {},
   "outputs": [],
   "source": [
    "data = df.copy()"
   ]
  },
  {
   "cell_type": "code",
   "execution_count": 189,
   "id": "e854320a",
   "metadata": {},
   "outputs": [
    {
     "data": {
      "text/plain": [
       "SNo                    0\n",
       "Date                   0\n",
       "StartupName            0\n",
       "IndustryVertical     171\n",
       "SubVertical          936\n",
       "CityLocation         179\n",
       "InvestorsName          8\n",
       "InvestmentType         1\n",
       "AmountInUSD          847\n",
       "Remarks             1953\n",
       "dtype: int64"
      ]
     },
     "execution_count": 189,
     "metadata": {},
     "output_type": "execute_result"
    }
   ],
   "source": [
    "data.isnull().sum()"
   ]
  },
  {
   "cell_type": "code",
   "execution_count": 190,
   "id": "5d22dd7f",
   "metadata": {},
   "outputs": [],
   "source": [
    "#dropping the null values in accordance to CityLocation\n",
    "data.dropna(subset=['CityLocation'], inplace=True)\n",
    "data.reset_index(drop=True, inplace=True)"
   ]
  },
  {
   "cell_type": "code",
   "execution_count": 191,
   "id": "25307980",
   "metadata": {},
   "outputs": [],
   "source": [
    "#separating the multiple location startups\n",
    "def separateCity(city):\n",
    "    return city.split('/')[0].strip()\n",
    "\n",
    "data.CityLocation = data.CityLocation.apply(separateCity)"
   ]
  },
  {
   "cell_type": "code",
   "execution_count": 192,
   "id": "2c20c623",
   "metadata": {},
   "outputs": [],
   "source": [
    "#correcting the names of cities and clubbing delhi, noida and gurgaon as delhi ncr.\n",
    "data.CityLocation.replace('bangalore', 'Bangalore', inplace=True)\n",
    "data.CityLocation.replace('Delhi', 'New Delhi', inplace=True)\n",
    "data.CityLocation.replace('New Delhi', 'NCR', inplace=True)\n",
    "data.CityLocation.replace('Noida', 'NCR', inplace=True)\n",
    "data.CityLocation.replace('Gurgaon', 'NCR', inplace=True)"
   ]
  },
  {
   "cell_type": "code",
   "execution_count": 193,
   "id": "f3574c50",
   "metadata": {},
   "outputs": [],
   "source": [
    "#using value_counts() to check the city with most fundings\n",
    "result = data.CityLocation.value_counts()[:5]\n",
    "city = result.index\n",
    "count = result.values"
   ]
  },
  {
   "cell_type": "code",
   "execution_count": 194,
   "id": "c9c76b9e",
   "metadata": {},
   "outputs": [
    {
     "name": "stdout",
     "output_type": "stream",
     "text": [
      "NCR 709\n"
     ]
    }
   ],
   "source": [
    "#printing the output\n",
    "print(city[0], count[0])"
   ]
  },
  {
   "cell_type": "code",
   "execution_count": 195,
   "id": "91b802f1",
   "metadata": {},
   "outputs": [
    {
     "data": {
      "image/png": "[encoded data removed]",
      "text/plain": [
       "<Figure size 640x480 with 1 Axes>"
      ]
     },
     "metadata": {},
     "output_type": "display_data"
    }
   ],
   "source": [
    "#plotting a pie graph\n",
    "def absolute_value(x):\n",
    "    x = np.round(x/100*count.sum())\n",
    "    return int(x)\n",
    "\n",
    "plt.pie(count, labels=city, autopct=absolute_value)\n",
    "plt.axis('equal')\n",
    "plt.show()"
   ]
  },
  {
   "cell_type": "markdown",
   "id": "3bc9627c",
   "metadata": {},
   "source": [
    "<hr>"
   ]
  },
  {
   "cell_type": "markdown",
   "id": "d4c627ca",
   "metadata": {},
   "source": [
    "##### Problem 2 - Top 5 investors who have invested maximum number of times (consider repeat investments in one company also)"
   ]
  },
  {
   "cell_type": "code",
   "execution_count": 196,
   "id": "1d72ad7d",
   "metadata": {},
   "outputs": [],
   "source": [
    "data = df.copy()"
   ]
  },
  {
   "cell_type": "code",
   "execution_count": 197,
   "id": "847e6a5e",
   "metadata": {},
   "outputs": [],
   "source": [
    "#dropping the null values in accordance to InvestorsName\n",
    "data.dropna(subset=['InvestorsName'], inplace=True)\n",
    "data.reset_index(drop=True, inplace=True)"
   ]
  },
  {
   "cell_type": "code",
   "execution_count": 198,
   "id": "1204babe",
   "metadata": {},
   "outputs": [
    {
     "data": {
      "text/plain": [
       "0                                          Kae Capital\n",
       "1                           Triton Investment Advisors\n",
       "2    Kashyap Deorah, Anand Sankeshwar, Deepak Jain,...\n",
       "3    Kunal Shah, LetsVenture, Anupam Mittal, Hetal ...\n",
       "4                       Narottam Thudi, Shireesh Palle\n",
       "Name: InvestorsName, dtype: object"
      ]
     },
     "execution_count": 198,
     "metadata": {},
     "output_type": "execute_result"
    }
   ],
   "source": [
    "#separating the multiple investors in one startup and storing in a list\n",
    "investors = []\n",
    "\n",
    "def separateInvestors(x):\n",
    "    investors.append(x.split(','))\n",
    "\n",
    "data.InvestorsName.apply(separateInvestors)\n",
    "data = data[data.InvestorsName != 'Undisclosed Investors']\n",
    "data = data[data.InvestorsName != 'Undisclosed investors']\n",
    "data = data[data.InvestorsName != 'undisclosed investors']\n",
    "data = data[data.InvestorsName != 'undisclosed investor']\n",
    "data.InvestorsName.head()"
   ]
  },
  {
   "cell_type": "code",
   "execution_count": 199,
   "id": "ff079537",
   "metadata": {},
   "outputs": [],
   "source": [
    "#counting the freq and storing it in a dict\n",
    "di = {}\n",
    "for i in investors:\n",
    "    for j in i:\n",
    "        j = j.strip()\n",
    "        di[j] = di.get(j, 0) + 1"
   ]
  },
  {
   "cell_type": "code",
   "execution_count": 200,
   "id": "7b0aee21",
   "metadata": {},
   "outputs": [
    {
     "name": "stdout",
     "output_type": "stream",
     "text": [
      "Sequoia Capital 64\n",
      "Accel Partners 53\n",
      "Kalaari Capital 44\n",
      "SAIF Partners 41\n",
      "Indian Angel Network 40\n"
     ]
    }
   ],
   "source": [
    "#sorting the dict and printing the result\n",
    "di_keys = sorted(di, key=di.get, reverse=True)\n",
    "inNames = []\n",
    "freq = []\n",
    "for i in range(5):\n",
    "    inNames.append(di_keys[i])\n",
    "    freq.append(di[di_keys[i]])\n",
    "    print(di_keys[i], di[di_keys[i]])"
   ]
  },
  {
   "cell_type": "code",
   "execution_count": 201,
   "id": "7d6246a3",
   "metadata": {},
   "outputs": [
    {
     "data": {
      "image/png": "[encoded data removed]",
      "text/plain": [
       "<Figure size 640x480 with 1 Axes>"
      ]
     },
     "metadata": {},
     "output_type": "display_data"
    }
   ],
   "source": [
    "#plotting a pie graph\n",
    "def absolute_value(x):\n",
    "    x = np.round(x/100*sum(freq))\n",
    "    return int(x)\n",
    "\n",
    "plt.pie(freq, labels=inNames, autopct=absolute_value)\n",
    "plt.axis('equal')\n",
    "plt.show()"
   ]
  },
  {
   "cell_type": "markdown",
   "id": "c2d6aab7",
   "metadata": {},
   "source": [
    "<hr>"
   ]
  },
  {
   "cell_type": "markdown",
   "id": "35bc5540",
   "metadata": {},
   "source": [
    "##### Problem 3 - Top 5 investors who have invested maximum number of times in different companies"
   ]
  },
  {
   "cell_type": "code",
   "execution_count": 202,
   "id": "baa0c90c",
   "metadata": {},
   "outputs": [],
   "source": [
    "data = df.copy()"
   ]
  },
  {
   "cell_type": "code",
   "execution_count": 203,
   "id": "2e4511e7",
   "metadata": {},
   "outputs": [],
   "source": [
    "#dropping the null values in accordance to InvestorsName, StartupName\n",
    "data.dropna(subset=['InvestorsName', 'StartupName'], inplace=True)\n",
    "data.reset_index(drop=True, inplace=True)"
   ]
  },
  {
   "cell_type": "code",
   "execution_count": 204,
   "id": "a00fc2ba",
   "metadata": {},
   "outputs": [
    {
     "name": "stdout",
     "output_type": "stream",
     "text": [
      "Vista Rooms\n",
      "Ola\n",
      "Flipkart\n",
      "Ola\n",
      "Paytm\n",
      "Ola Cabs\n",
      "HolaChef\n",
      "Oyo Rooms\n",
      "Ola\n",
      "Paytm Marketplace\n",
      "Flipkart\n",
      "Oriano Solar\n",
      "Flipkart\n",
      "FroyoFit\n",
      "OyoRooms\n",
      "Paytm\n",
      "HolaChef\n",
      "Truckola\n",
      "SolarTown\n",
      "Oyo\n",
      "RoomsTonite\n",
      "Kolabro\n",
      "Deyor Rooms\n",
      "Ola\n",
      "HolaChef\n",
      "Ola Cabs\n",
      "Ola Cabs\n",
      "Paytm\n",
      "Oyorooms\n",
      "Zo Rooms\n",
      "EzySolare\n",
      "Ola Cabs\n",
      "Oyo Rooms\n",
      "Zo Rooms\n",
      "Flipkart.com\n",
      "Flipkart\n",
      "Applied Solar Technologies\n",
      "Holachef\n",
      "Olacabs\n",
      "Paytm\n",
      "OYO Rooms\n",
      "HolaChef\n",
      "Paytm\n"
     ]
    }
   ],
   "source": [
    "#checking duplicate names\n",
    "for i in range(data.StartupName.shape[0]):\n",
    "    if ('oyo' in data.StartupName[i]):\n",
    "        print(data.StartupName[i])\n",
    "    elif ('rooms' in data.StartupName[i]):\n",
    "        print(data.StartupName[i])\n",
    "    elif ('Rooms' in data.StartupName[i]):\n",
    "        print(data.StartupName[i])\n",
    "    elif ('Oyo' in data.StartupName[i]):\n",
    "        print(data.StartupName[i])\n",
    "    elif ('Paytm' in data.StartupName[i]):\n",
    "        print(data.StartupName[i])\n",
    "    elif ('Ola' in data.StartupName[i]):\n",
    "        print(data.StartupName[i])\n",
    "    elif ('ola' in data.StartupName[i]):\n",
    "        print(data.StartupName[i])\n",
    "    elif ('flipkart' in data.StartupName[i]):\n",
    "        print(data.StartupName[i])\n",
    "    elif ('Flipkart' in data.StartupName[i]):\n",
    "        print(data.StartupName[i])"
   ]
  },
  {
   "cell_type": "code",
   "execution_count": 205,
   "id": "f4045a45",
   "metadata": {},
   "outputs": [],
   "source": [
    "#updating duplicate names and spellings\n",
    "data.replace('Oyo Rooms', 'Oyo', inplace=True)\n",
    "data.replace('Paytm Marketplace', 'Paytm', inplace=True)\n",
    "data.replace('Ola Cabs', 'Ola', inplace=True)\n",
    "data.replace('Olacabs', 'Ola', inplace=True)\n",
    "data.replace('OyoRooms', 'Oyo', inplace=True)\n",
    "data.replace('Oyorooms', 'Oyo', inplace=True)\n",
    "data.replace('OYO Rooms', 'Oyo', inplace=True)\n",
    "data.replace('Flipkart.com', 'Flipkart', inplace=True)\n",
    "data = data[data.InvestorsName != 'Undisclosed Investors']\n",
    "data = data[data.InvestorsName != 'Undisclosed investors']\n",
    "data = data[data.InvestorsName != 'undisclosed investors']\n",
    "data = data[data.InvestorsName != 'undisclosed investor']"
   ]
  },
  {
   "cell_type": "code",
   "execution_count": 206,
   "id": "3e93b9de",
   "metadata": {},
   "outputs": [],
   "source": [
    "#separating the multiple investors in one startup and storing in a list\n",
    "def separateInvestors(x):\n",
    "    return x.split(',')\n",
    "\n",
    "data.InvestorsName = data.InvestorsName.apply(separateInvestors)"
   ]
  },
  {
   "cell_type": "code",
   "execution_count": 207,
   "id": "a763b395",
   "metadata": {},
   "outputs": [],
   "source": [
    "#making two lists where every index will correspond to investorName and startupName\n",
    "investor_name = []\n",
    "startup_name = []\n",
    "\n",
    "for index,row in data.iterrows():\n",
    "    s = row['InvestorsName']\n",
    "    v = row['StartupName']\n",
    "    for j in s:\n",
    "        if j != '':\n",
    "            j = j.strip()\n",
    "            investor_name.append(j)\n",
    "            startup_name.append(v)"
   ]
  },
  {
   "cell_type": "code",
   "execution_count": 219,
   "id": "29c914f6",
   "metadata": {},
   "outputs": [
    {
     "data": {
      "text/html": [
       "<div>\n",
       "<style scoped>\n",
       "    .dataframe tbody tr th:only-of-type {\n",
       "        vertical-align: middle;\n",
       "    }\n",
       "\n",
       "    .dataframe tbody tr th {\n",
       "        vertical-align: top;\n",
       "    }\n",
       "\n",
       "    .dataframe thead th {\n",
       "        text-align: right;\n",
       "    }\n",
       "</style>\n",
       "<table border=\"1\" class=\"dataframe\">\n",
       "  <thead>\n",
       "    <tr style=\"text-align: right;\">\n",
       "      <th></th>\n",
       "      <th>InvestorsName</th>\n",
       "      <th>StartupName</th>\n",
       "    </tr>\n",
       "  </thead>\n",
       "  <tbody>\n",
       "    <tr>\n",
       "      <th>0</th>\n",
       "      <td>Kae Capital</td>\n",
       "      <td>TouchKin</td>\n",
       "    </tr>\n",
       "    <tr>\n",
       "      <th>1</th>\n",
       "      <td>Triton Investment Advisors</td>\n",
       "      <td>Ethinos</td>\n",
       "    </tr>\n",
       "    <tr>\n",
       "      <th>2</th>\n",
       "      <td>Kashyap Deorah</td>\n",
       "      <td>Leverage Edu</td>\n",
       "    </tr>\n",
       "    <tr>\n",
       "      <th>3</th>\n",
       "      <td>Anand Sankeshwar</td>\n",
       "      <td>Leverage Edu</td>\n",
       "    </tr>\n",
       "    <tr>\n",
       "      <th>4</th>\n",
       "      <td>Deepak Jain</td>\n",
       "      <td>Leverage Edu</td>\n",
       "    </tr>\n",
       "  </tbody>\n",
       "</table>\n",
       "</div>"
      ],
      "text/plain": [
       "                InvestorsName   StartupName\n",
       "0                 Kae Capital      TouchKin\n",
       "1  Triton Investment Advisors       Ethinos\n",
       "2              Kashyap Deorah  Leverage Edu\n",
       "3            Anand Sankeshwar  Leverage Edu\n",
       "4                 Deepak Jain  Leverage Edu"
      ]
     },
     "execution_count": 219,
     "metadata": {},
     "output_type": "execute_result"
    }
   ],
   "source": [
    "#updating the df data with the lists made above\n",
    "data = pd.DataFrame({'InvestorsName' : investor_name,'StartupName' : startup_name})\n",
    "data.head()"
   ]
  },
  {
   "cell_type": "code",
   "execution_count": 220,
   "id": "7ce360fa",
   "metadata": {},
   "outputs": [
    {
     "name": "stdout",
     "output_type": "stream",
     "text": [
      "Sequoia Capital 48\n",
      "Accel Partners 47\n",
      "Kalaari Capital 41\n",
      "Indian Angel Network 40\n",
      "Blume Ventures 36\n"
     ]
    }
   ],
   "source": [
    "#grouping the data using nunique() which returns df with counts of unique elements in each position.\n",
    "#sorting the df in descending order and printing the result.\n",
    "data = data.groupby('InvestorsName')['StartupName'].nunique()\n",
    "# print(data.head(10))\n",
    "data = data.sort_values(ascending = False)[:5]\n",
    "\n",
    "name = []\n",
    "count = []\n",
    "for i in range(data.shape[0]):\n",
    "    print(data.index[i],data.values[i])\n",
    "    name.append(data.index[i])\n",
    "    count.append(data.values[i])"
   ]
  },
  {
   "cell_type": "code",
   "execution_count": 221,
   "id": "10125a2e",
   "metadata": {},
   "outputs": [
    {
     "data": {
      "image/png": "[encoded data removed]",
      "text/plain": [
       "<Figure size 640x480 with 1 Axes>"
      ]
     },
     "metadata": {},
     "output_type": "display_data"
    }
   ],
   "source": [
    "#plotting a bar graph for the same\n",
    "plt.bar(name, count, width = 0.5, edgecolor='black')\n",
    "plt.xticks(rotation=45)\n",
    "plt.show()"
   ]
  },
  {
   "cell_type": "markdown",
   "id": "f134606c",
   "metadata": {},
   "source": [
    "<hr>"
   ]
  },
  {
   "cell_type": "markdown",
   "id": "765bfd4a",
   "metadata": {},
   "source": [
    "##### Problem 4 - Top 5 investors who have invested in a different number of startups and their investment type is Crowdfunding or Seed Funding."
   ]
  },
  {
   "cell_type": "code",
   "execution_count": 245,
   "id": "dbf89167",
   "metadata": {},
   "outputs": [],
   "source": [
    "data = df.copy()"
   ]
  },
  {
   "cell_type": "code",
   "execution_count": 246,
   "id": "96bacffc",
   "metadata": {},
   "outputs": [],
   "source": [
    "#dropping the null values in accordance to InvestorsName, StartupName, and InvestmentType\n",
    "data.dropna(subset=['InvestorsName', 'StartupName', 'InvestmentType'], inplace=True)\n",
    "data.reset_index(drop=True, inplace=True)"
   ]
  },
  {
   "cell_type": "code",
   "execution_count": 247,
   "id": "0225fcc5",
   "metadata": {},
   "outputs": [],
   "source": [
    "#updating duplicate names and spellings\n",
    "data.replace('Oyo Rooms', 'Oyo', inplace=True)\n",
    "data.replace('Paytm Marketplace', 'Paytm', inplace=True)\n",
    "data.replace('Ola Cabs', 'Ola', inplace=True)\n",
    "data.replace('Olacabs', 'Ola', inplace=True)\n",
    "data.replace('OyoRooms', 'Oyo', inplace=True)\n",
    "data.replace('Oyorooms', 'Oyo', inplace=True)\n",
    "data.replace('OYO Rooms', 'Oyo', inplace=True)\n",
    "data.replace('Flipkart.com', 'Flipkart', inplace=True)\n",
    "data = data[data.InvestorsName != 'Undisclosed Investors']\n",
    "data = data[data.InvestorsName != 'Undisclosed investors']\n",
    "data = data[data.InvestorsName != 'undisclosed investors']\n",
    "data = data[data.InvestorsName != 'undisclosed investor']\n",
    "data.InvestmentType.replace('PrivateEquity', 'Private Equity', inplace = True)\n",
    "data.InvestmentType.replace('SeedFunding', 'Seed Funding', inplace = True)\n",
    "data.InvestmentType.replace('Crowd funding', 'Crowd Funding', inplace = True)"
   ]
  },
  {
   "cell_type": "code",
   "execution_count": 254,
   "id": "7c3b6413",
   "metadata": {},
   "outputs": [],
   "source": [
    "#updating the df with only Crowd Funding and Seed Funding investments\n",
    "data = data[(data.InvestmentType == 'Crowd Funding')|(data.InvestmentType == 'Seed Funding')]"
   ]
  },
  {
   "cell_type": "code",
   "execution_count": 255,
   "id": "bf81f0dd",
   "metadata": {},
   "outputs": [],
   "source": [
    "#separating the multiple investors in one startup and storing in a list\n",
    "def separateInvestors(x):\n",
    "    return x.split(',')\n",
    "\n",
    "data.InvestorsName = data.InvestorsName.apply(separateInvestors)"
   ]
  },
  {
   "cell_type": "code",
   "execution_count": 256,
   "id": "6a62fd5a",
   "metadata": {},
   "outputs": [],
   "source": [
    "#making two lists where every index will correspond to investorName and startupName\n",
    "investor_name = []\n",
    "startup_name = []\n",
    "\n",
    "for index,row in data.iterrows():\n",
    "    s = row['InvestorsName']\n",
    "    v = row['StartupName']\n",
    "    for j in s:\n",
    "        if j != '':\n",
    "            j = j.strip()\n",
    "            investor_name.append(j)\n",
    "            startup_name.append(v)"
   ]
  },
  {
   "cell_type": "code",
   "execution_count": 257,
   "id": "a32fc25f",
   "metadata": {},
   "outputs": [
    {
     "data": {
      "text/html": [
       "<div>\n",
       "<style scoped>\n",
       "    .dataframe tbody tr th:only-of-type {\n",
       "        vertical-align: middle;\n",
       "    }\n",
       "\n",
       "    .dataframe tbody tr th {\n",
       "        vertical-align: top;\n",
       "    }\n",
       "\n",
       "    .dataframe thead th {\n",
       "        text-align: right;\n",
       "    }\n",
       "</style>\n",
       "<table border=\"1\" class=\"dataframe\">\n",
       "  <thead>\n",
       "    <tr style=\"text-align: right;\">\n",
       "      <th></th>\n",
       "      <th>InvestorsName</th>\n",
       "      <th>StartupName</th>\n",
       "    </tr>\n",
       "  </thead>\n",
       "  <tbody>\n",
       "    <tr>\n",
       "      <th>0</th>\n",
       "      <td>Kashyap Deorah</td>\n",
       "      <td>Leverage Edu</td>\n",
       "    </tr>\n",
       "    <tr>\n",
       "      <th>1</th>\n",
       "      <td>Anand Sankeshwar</td>\n",
       "      <td>Leverage Edu</td>\n",
       "    </tr>\n",
       "    <tr>\n",
       "      <th>2</th>\n",
       "      <td>Deepak Jain</td>\n",
       "      <td>Leverage Edu</td>\n",
       "    </tr>\n",
       "    <tr>\n",
       "      <th>3</th>\n",
       "      <td>Sadashiva NT</td>\n",
       "      <td>Leverage Edu</td>\n",
       "    </tr>\n",
       "    <tr>\n",
       "      <th>4</th>\n",
       "      <td>Arjun Mehta</td>\n",
       "      <td>Leverage Edu</td>\n",
       "    </tr>\n",
       "  </tbody>\n",
       "</table>\n",
       "</div>"
      ],
      "text/plain": [
       "      InvestorsName   StartupName\n",
       "0    Kashyap Deorah  Leverage Edu\n",
       "1  Anand Sankeshwar  Leverage Edu\n",
       "2       Deepak Jain  Leverage Edu\n",
       "3      Sadashiva NT  Leverage Edu\n",
       "4       Arjun Mehta  Leverage Edu"
      ]
     },
     "execution_count": 257,
     "metadata": {},
     "output_type": "execute_result"
    }
   ],
   "source": [
    "#updating the df data with the lists made above\n",
    "data = pd.DataFrame({'InvestorsName' : investor_name,'StartupName' : startup_name})\n",
    "data.head()"
   ]
  },
  {
   "cell_type": "code",
   "execution_count": 258,
   "id": "d9836573",
   "metadata": {},
   "outputs": [
    {
     "name": "stdout",
     "output_type": "stream",
     "text": [
      "Indian Angel Network 33\n",
      "Rajan Anandan 23\n",
      "LetsVenture 16\n",
      "Anupam Mittal 16\n",
      "Group of Angel Investors 14\n"
     ]
    }
   ],
   "source": [
    "#grouping the data using nunique() which returns df with counts of unique elements in each position.\n",
    "#sorting the df in descending order and printing the result.\n",
    "data = data.groupby('InvestorsName')['StartupName'].nunique()\n",
    "# print(data.head(10))\n",
    "data = data.sort_values(ascending = False)[:5]\n",
    "\n",
    "name = []\n",
    "count = []\n",
    "for i in range(data.shape[0]):\n",
    "    print(data.index[i],data.values[i])\n",
    "    name.append(data.index[i])\n",
    "    count.append(data.values[i])"
   ]
  },
  {
   "cell_type": "code",
   "execution_count": 259,
   "id": "b88131a9",
   "metadata": {},
   "outputs": [
    {
     "data": {
      "image/png": "[encoded data removed]",
      "text/plain": [
       "<Figure size 640x480 with 1 Axes>"
      ]
     },
     "metadata": {},
     "output_type": "display_data"
    }
   ],
   "source": [
    "#plotting a bar graph for the same\n",
    "plt.bar(name, count, width = 0.5, edgecolor='black')\n",
    "plt.xticks(rotation=45)\n",
    "plt.show()"
   ]
  },
  {
   "cell_type": "markdown",
   "id": "c9981e7b",
   "metadata": {},
   "source": [
    "<hr>"
   ]
  },
  {
   "cell_type": "markdown",
   "id": "15f212a8",
   "metadata": {},
   "source": [
    "##### Problem 5 - Top 5 investors who have invested in a different number of startups and their investment type is Private Equity."
   ]
  },
  {
   "cell_type": "code",
   "execution_count": 260,
   "id": "8f405c85",
   "metadata": {},
   "outputs": [],
   "source": [
    "data = df.copy()"
   ]
  },
  {
   "cell_type": "code",
   "execution_count": 261,
   "id": "ade55b89",
   "metadata": {},
   "outputs": [],
   "source": [
    "#dropping the null values in accordance to InvestorsName, StartupName, and InvestmentType\n",
    "data.dropna(subset=['InvestorsName', 'StartupName', 'InvestmentType'], inplace=True)\n",
    "data.reset_index(drop=True, inplace=True)"
   ]
  },
  {
   "cell_type": "code",
   "execution_count": 262,
   "id": "ad82e90a",
   "metadata": {},
   "outputs": [],
   "source": [
    "#updating duplicate names and spellings\n",
    "data.replace('Oyo Rooms', 'Oyo', inplace=True)\n",
    "data.replace('Paytm Marketplace', 'Paytm', inplace=True)\n",
    "data.replace('Ola Cabs', 'Ola', inplace=True)\n",
    "data.replace('Olacabs', 'Ola', inplace=True)\n",
    "data.replace('OyoRooms', 'Oyo', inplace=True)\n",
    "data.replace('Oyorooms', 'Oyo', inplace=True)\n",
    "data.replace('OYO Rooms', 'Oyo', inplace=True)\n",
    "data.replace('Flipkart.com', 'Flipkart', inplace=True)\n",
    "data = data[data.InvestorsName != 'Undisclosed Investors']\n",
    "data = data[data.InvestorsName != 'Undisclosed investors']\n",
    "data = data[data.InvestorsName != 'undisclosed investors']\n",
    "data = data[data.InvestorsName != 'undisclosed investor']\n",
    "data.InvestmentType.replace('PrivateEquity', 'Private Equity', inplace = True)\n",
    "data.InvestmentType.replace('SeedFunding', 'Seed Funding', inplace = True)\n",
    "data.InvestmentType.replace('Crowd funding', 'Crowd Funding', inplace = True)"
   ]
  },
  {
   "cell_type": "code",
   "execution_count": 263,
   "id": "9498bbb8",
   "metadata": {},
   "outputs": [],
   "source": [
    "#updating the df with only Private Equity investments\n",
    "data = data[(data.InvestmentType == 'Private Equity')]"
   ]
  },
  {
   "cell_type": "code",
   "execution_count": 264,
   "id": "4e42a0cf",
   "metadata": {},
   "outputs": [],
   "source": [
    "#separating the multiple investors in one startup and storing in a list\n",
    "def separateInvestors(x):\n",
    "    return x.split(',')\n",
    "\n",
    "data.InvestorsName = data.InvestorsName.apply(separateInvestors)"
   ]
  },
  {
   "cell_type": "code",
   "execution_count": 265,
   "id": "0db556d6",
   "metadata": {},
   "outputs": [],
   "source": [
    "#making two lists where every index will correspond to investorName and startupName\n",
    "investor_name = []\n",
    "startup_name = []\n",
    "\n",
    "for index,row in data.iterrows():\n",
    "    s = row['InvestorsName']\n",
    "    v = row['StartupName']\n",
    "    for j in s:\n",
    "        if j != '':\n",
    "            j = j.strip()\n",
    "            investor_name.append(j)\n",
    "            startup_name.append(v)"
   ]
  },
  {
   "cell_type": "code",
   "execution_count": 266,
   "id": "a2432ae9",
   "metadata": {},
   "outputs": [
    {
     "data": {
      "text/html": [
       "<div>\n",
       "<style scoped>\n",
       "    .dataframe tbody tr th:only-of-type {\n",
       "        vertical-align: middle;\n",
       "    }\n",
       "\n",
       "    .dataframe tbody tr th {\n",
       "        vertical-align: top;\n",
       "    }\n",
       "\n",
       "    .dataframe thead th {\n",
       "        text-align: right;\n",
       "    }\n",
       "</style>\n",
       "<table border=\"1\" class=\"dataframe\">\n",
       "  <thead>\n",
       "    <tr style=\"text-align: right;\">\n",
       "      <th></th>\n",
       "      <th>InvestorsName</th>\n",
       "      <th>StartupName</th>\n",
       "    </tr>\n",
       "  </thead>\n",
       "  <tbody>\n",
       "    <tr>\n",
       "      <th>0</th>\n",
       "      <td>Kae Capital</td>\n",
       "      <td>TouchKin</td>\n",
       "    </tr>\n",
       "    <tr>\n",
       "      <th>1</th>\n",
       "      <td>Triton Investment Advisors</td>\n",
       "      <td>Ethinos</td>\n",
       "    </tr>\n",
       "    <tr>\n",
       "      <th>2</th>\n",
       "      <td>Infuse Ventures</td>\n",
       "      <td>Ecolibriumenergy</td>\n",
       "    </tr>\n",
       "    <tr>\n",
       "      <th>3</th>\n",
       "      <td>JLL</td>\n",
       "      <td>Ecolibriumenergy</td>\n",
       "    </tr>\n",
       "    <tr>\n",
       "      <th>4</th>\n",
       "      <td>Asset Management (Asia) Ltd</td>\n",
       "      <td>Droom</td>\n",
       "    </tr>\n",
       "  </tbody>\n",
       "</table>\n",
       "</div>"
      ],
      "text/plain": [
       "                 InvestorsName       StartupName\n",
       "0                  Kae Capital          TouchKin\n",
       "1   Triton Investment Advisors           Ethinos\n",
       "2              Infuse Ventures  Ecolibriumenergy\n",
       "3                          JLL  Ecolibriumenergy\n",
       "4  Asset Management (Asia) Ltd             Droom"
      ]
     },
     "execution_count": 266,
     "metadata": {},
     "output_type": "execute_result"
    }
   ],
   "source": [
    "#updating the df data with the lists made above\n",
    "data = pd.DataFrame({'InvestorsName' : investor_name,'StartupName' : startup_name})\n",
    "data.head()"
   ]
  },
  {
   "cell_type": "code",
   "execution_count": 267,
   "id": "757c46d1",
   "metadata": {},
   "outputs": [
    {
     "name": "stdout",
     "output_type": "stream",
     "text": [
      "Sequoia Capital 45\n",
      "Accel Partners 43\n",
      "Kalaari Capital 35\n",
      "Blume Ventures 27\n",
      "SAIF Partners 24\n"
     ]
    }
   ],
   "source": [
    "#grouping the data using nunique() which returns df with counts of unique elements in each position.\n",
    "#sorting the df in descending order and printing the result.\n",
    "data = data.groupby('InvestorsName')['StartupName'].nunique()\n",
    "# print(data.head(10))\n",
    "data = data.sort_values(ascending = False)[:5]\n",
    "\n",
    "name = []\n",
    "count = []\n",
    "for i in range(data.shape[0]):\n",
    "    print(data.index[i],data.values[i])\n",
    "    name.append(data.index[i])\n",
    "    count.append(data.values[i])"
   ]
  },
  {
   "cell_type": "code",
   "execution_count": 274,
   "id": "f5d6cba4",
   "metadata": {},
   "outputs": [
    {
     "data": {
      "image/png": "[encoded data removed]",
      "text/plain": [
       "<Figure size 640x480 with 1 Axes>"
      ]
     },
     "metadata": {},
     "output_type": "display_data"
    }
   ],
   "source": [
    "#plotting a bar graph for the same\n",
    "plt.bar(name, count, width = 0.5, edgecolor='black', color = 'orange')\n",
    "plt.xticks(rotation=45)\n",
    "plt.show()"
   ]
  },
  {
   "cell_type": "markdown",
   "id": "2a5da218",
   "metadata": {},
   "source": [
    "<hr>"
   ]
  },
  {
   "cell_type": "markdown",
   "id": "4773ba49",
   "metadata": {},
   "source": [
    "    \n",
    "                                                                                case study analysis by Vishal Kumar Singh"
   ]
  }
 ],
 "metadata": {
  "kernelspec": {
   "display_name": "Python 3 (ipykernel)",
   "language": "python",
   "name": "python3"
  },
  "language_info": {
   "codemirror_mode": {
    "name": "ipython",
    "version": 3
   },
   "file_extension": ".py",
   "mimetype": "text/x-python",
   "name": "python",
   "nbconvert_exporter": "python",
   "pygments_lexer": "ipython3",
   "version": "3.10.11"
  }
 },
 "nbformat": 4,
 "nbformat_minor": 5
}
